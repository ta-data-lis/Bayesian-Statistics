{
 "cells": [
  {
   "cell_type": "markdown",
   "metadata": {},
   "source": [
    "# Intro to Bayesian Statistics Lab\n",
    "\n",
    "Complete the following set of exercises to solidify your knowledge of Bayesian statistics and Bayesian data analysis."
   ]
  },
  {
   "cell_type": "code",
   "execution_count": 1,
   "metadata": {},
   "outputs": [],
   "source": [
    "import pandas as pd\n",
    "import numpy as np\n",
    "import matplotlib.pyplot as plt"
   ]
  },
  {
   "cell_type": "markdown",
   "metadata": {},
   "source": [
    "## 1. Cookie Problem\n",
    "\n",
    "Suppose we have two bowls of cookies. Bowl 1 contains 30 vanilla cookies and 10 chocolate cookies. Bowl 2 contains 20 of each. You randomly pick one cookie out of one of the bowls, and it is vanilla. Use Bayes Theorem to calculate the probability that the vanilla cookie you picked came from Bowl 1?"
   ]
  },
  {
   "cell_type": "code",
   "execution_count": 2,
   "metadata": {},
   "outputs": [
    {
     "name": "stdout",
     "output_type": "stream",
     "text": [
      "The probability that the vanilla cookie came from Bowl 1 is: 0.6\n"
     ]
    }
   ],
   "source": [
    "P_A = 1/2  \n",
    "P_B_given_A = 3/4  \n",
    "\n",
    "\n",
    "P_B = P_B_given_A * P_A + P_B_given_not_A * (1 - P_A)\n",
    "\n",
    "\n",
    "P_A_given_B = (P_B_given_A * P_A) / P_B\n",
    "\n",
    "print(\"The probability that the vanilla cookie came from Bowl 1 is:\", P_A_given_B)\n"
   ]
  },
  {
   "cell_type": "markdown",
   "metadata": {},
   "source": [
    "What is the probability that it came from Bowl 2?"
   ]
  },
  {
   "cell_type": "code",
   "execution_count": 3,
   "metadata": {},
   "outputs": [
    {
     "name": "stdout",
     "output_type": "stream",
     "text": [
      "The probability that the vanilla cookie came from Bowl 2 is: 0.4\n"
     ]
    }
   ],
   "source": [
    "\n",
    "P_A = 1/2  \n",
    "P_B_given_A = 3/4  \n",
    "P_B_given_not_A = 1/2  \n",
    "\n",
    "\n",
    "P_B = P_B_given_A * P_A + P_B_given_not_A * (1 - P_A)\n",
    "\n",
    "\n",
    "P_not_A_given_B = (P_B_given_not_A * (1 - P_A)) / P_B\n",
    "\n",
    "print(\"The probability that the vanilla cookie came from Bowl 2 is:\", P_not_A_given_B)\n"
   ]
  },
  {
   "cell_type": "markdown",
   "metadata": {},
   "source": [
    "What if the cookie you had picked was chocolate? What are the probabilities that the chocolate cookie came from Bowl 1 and Bowl 2 respectively?"
   ]
  },
  {
   "cell_type": "code",
   "execution_count": 4,
   "metadata": {},
   "outputs": [
    {
     "name": "stdout",
     "output_type": "stream",
     "text": [
      "The probability that the chocolate cookie came from Bowl 1 is: 0.3333333333333333\n",
      "The probability that the chocolate cookie came from Bowl 2 is: 0.6666666666666666\n"
     ]
    }
   ],
   "source": [
    "\n",
    "P_A = 1/2  \n",
    "P_B_given_A = 1/4  \n",
    "P_B_given_not_A = 1/2  \n",
    "\n",
    "P_B = P_B_given_A * P_A + P_B_given_not_A * (1 - P_A)\n",
    "\n",
    "P_A_given_B = (P_B_given_A * P_A) / P_B\n",
    "\n",
    "\n",
    "P_not_A_given_B = (P_B_given_not_A * (1 - P_A)) / P_B\n",
    "\n",
    "print(\"The probability that the chocolate cookie came from Bowl 1 is:\", P_A_given_B)\n",
    "print(\"The probability that the chocolate cookie came from Bowl 2 is:\", P_not_A_given_B)\n"
   ]
  },
  {
   "cell_type": "markdown",
   "metadata": {},
   "source": [
    "## 2. Candy Problem\n",
    "\n",
    "Suppose you have two bags of candies:\n",
    "\n",
    "- In Bag 1, the mix of colors is:\n",
    "    - Brown - 30%\n",
    "    - Yellow - 20%\n",
    "    - Red - 20%\n",
    "    - Green - 10%\n",
    "    - Orange - 10%\n",
    "    - Tan - 10%\n",
    "    \n",
    "- In Bag 2, the mix of colors is:\n",
    "    - Blue - 24%\n",
    "    - Green - 20%\n",
    "    - Orange - 16%\n",
    "    - Yellow - 14%\n",
    "    - Red - 13%\n",
    "    - Brown - 13%\n",
    "    \n",
    "Not knowing which bag is which, you randomly draw one candy from each bag. One is yellow and one is green. What is the probability that the yellow one came from the Bag 1?\n",
    "\n",
    "*Hint: For the likelihoods, you will need to multiply the probabilities of drawing yellow from one bag and green from the other bag and vice versa.*"
   ]
  },
  {
   "cell_type": "code",
   "execution_count": 5,
   "metadata": {},
   "outputs": [
    {
     "name": "stdout",
     "output_type": "stream",
     "text": [
      "The probability that the yellow candy came from Bag 1 is: 0.47368421052631576\n"
     ]
    }
   ],
   "source": [
    "P_A = 0.5  # Probability that candies were drawn from Bag 1 or Bag 2\n",
    "P_B_given_A = 0.2 * 0.2 + 0.1 * 0.14  # Probability of drawing one yellow and one green candy from Bag 1\n",
    "P_B_given_not_A = 0.2 * 0.14 + 0.16 * 0.2  # Probability of drawing one yellow and one green candy from Bag 2\n",
    "\n",
    "\n",
    "P_B = P_B_given_A * P_A + P_B_given_not_A * (1 - P_A)\n",
    "\n",
    "P_A_given_B = (P_B_given_A * P_A) / P_B\n",
    "\n",
    "print(\"The probability that the yellow candy came from Bag 1 is:\", P_A_given_B)\n"
   ]
  },
  {
   "cell_type": "markdown",
   "metadata": {},
   "source": [
    "What is the probability that the yellow candy came from Bag 2?"
   ]
  },
  {
   "cell_type": "code",
   "execution_count": 6,
   "metadata": {},
   "outputs": [
    {
     "name": "stdout",
     "output_type": "stream",
     "text": [
      "The probability that the yellow candy came from Bag 2 is: 0.5263157894736842\n"
     ]
    }
   ],
   "source": [
    "\n",
    "P_A = 0.5  \n",
    "P_B_given_A = 0.2 * 0.2 + 0.1 * 0.14  \n",
    "P_B_given_not_A = 0.2 * 0.14 + 0.16 * 0.2 \n",
    "\n",
    "\n",
    "P_B = P_B_given_A * P_A + P_B_given_not_A * (1 - P_A)\n",
    "\n",
    "\n",
    "P_not_A_given_B = (P_B_given_not_A * (1 - P_A)) / P_B\n",
    "\n",
    "print(\"The probability that the yellow candy came from Bag 2 is:\", P_not_A_given_B)\n"
   ]
  },
  {
   "cell_type": "markdown",
   "metadata": {},
   "source": [
    "What are the probabilities that the green one came from Bag 1 and Bag 2 respectively?"
   ]
  },
  {
   "cell_type": "code",
   "execution_count": 7,
   "metadata": {},
   "outputs": [
    {
     "name": "stdout",
     "output_type": "stream",
     "text": [
      "The probability that the green candy came from Bag 1 is: 0.5543237250554324\n",
      "The probability that the green candy came from Bag 2 is: 0.4456762749445677\n"
     ]
    }
   ],
   "source": [
    "\n",
    "P_A = 0.5  \n",
    "P_C_given_A = 0.2 * 0.1 + 0.3 * 0.2 + 0.1 * 0.2  \n",
    "P_C_given_not_A = 0.2 * 0.2 + 0.14 * 0.14 + 0.16 * 0.13  \n",
    "\n",
    "\n",
    "P_C = P_C_given_A * P_A + P_C_given_not_A * (1 - P_A)\n",
    "\n",
    "\n",
    "P_A_given_C = (P_C_given_A * P_A) / P_C\n",
    "\n",
    "\n",
    "P_not_A_given_C = (P_C_given_not_A * (1 - P_A)) / P_C\n",
    "\n",
    "print(\"The probability that the green candy came from Bag 1 is:\", P_A_given_C)\n",
    "print(\"The probability that the green candy came from Bag 2 is:\", P_not_A_given_C)\n"
   ]
  },
  {
   "cell_type": "markdown",
   "metadata": {},
   "source": [
    "## 3. Monty Hall Problem\n",
    "\n",
    "Suppose you are a contestant on the popular game show *Let's Make a Deal*. The host of the show (Monty Hall) presents you with three doors - Door A, Door B, and Door C. He tells you that there is a sports car behind one of them and if you choose the correct one, you win the car!\n",
    "\n",
    "You select Door A, but then Monty makes things a little more interesting. He opens Door B to reveal that there is no sports car behind it and asks you if you would like to stick with your choice of Door A or switch your choice to Door C. Given this new information, what are the probabilities of you winning the car if you stick with Door A versus if you switch to Door C?"
   ]
  },
  {
   "cell_type": "code",
   "execution_count": 8,
   "metadata": {},
   "outputs": [
    {
     "name": "stdout",
     "output_type": "stream",
     "text": [
      "The car was behind door C\n",
      "Monty opened door B\n",
      "The player's final choice was door C\n",
      "The player won the car.\n"
     ]
    }
   ],
   "source": [
    "import random\n",
    "\n",
    "doors = ['A', 'B', 'C']\n",
    "\n",
    "\n",
    "car = random.choice(doors)\n",
    "\n",
    "\n",
    "player_choice = 'A'\n",
    "\n",
    "\n",
    "monty_options = [door for door in doors if door != car and door != player_choice]\n",
    "\n",
    "\n",
    "monty_choice = random.choice(monty_options)\n",
    "\n",
    "\n",
    "strategy = 'switch'\n",
    "\n",
    "\n",
    "if strategy == 'switch':\n",
    "    player_choice = [door for door in doors if door != player_choice and door != monty_choice][0]\n",
    "\n",
    "\n",
    "win = player_choice == car\n",
    "\n",
    "# Print the results\n",
    "print(\"The car was behind door\", car)\n",
    "print(\"Monty opened door\", monty_choice)\n",
    "print(\"The player's final choice was door\", player_choice)\n",
    "print(\"The player\", \"won\" if win else \"lost\", \"the car.\")\n"
   ]
  },
  {
   "cell_type": "markdown",
   "metadata": {},
   "source": [
    "## 4. Bayesian Analysis \n",
    "\n",
    "Suppose you work for a landscaping company, and they want to advertise their service online. They create an ad and sit back waiting for the money to roll in. On the first day, the ad sends 100 visitors to the site and 14 of them sign up for landscaping services. Create a generative model to come up with the posterior distribution and produce a visualization of what the posterior distribution would look like given the observed data."
   ]
  },
  {
   "cell_type": "code",
   "execution_count": 9,
   "metadata": {},
   "outputs": [
    {
     "data": {
      "image/png": "[encoded data removed]",
      "text/plain": [
       "<Figure size 640x480 with 1 Axes>"
      ]
     },
     "metadata": {},
     "output_type": "display_data"
    }
   ],
   "source": [
    "import numpy as np\n",
    "import scipy.stats as stats\n",
    "import matplotlib.pyplot as plt\n",
    "\n",
    "n = 100  \n",
    "k = 14  \n",
    "\n",
    "\n",
    "alpha = 2\n",
    "beta = 2\n",
    "prior = stats.beta(alpha, beta)\n",
    "\n",
    "def likelihood(p):\n",
    "    return stats.binom.pmf(k, n, p)\n",
    "\n",
    "posterior = lambda p: likelihood(p) * prior.pdf(p)\n",
    "posterior = stats.beta(alpha + k, beta + n - k)\n",
    "\n",
    "x = np.linspace(0, 1, 1000)\n",
    "plt.plot(x, prior.pdf(x), label='prior')\n",
    "plt.plot(x, likelihood(x), label='likelihood')\n",
    "plt.plot(x, posterior.pdf(x), label='posterior')\n",
    "plt.xlabel('p')\n",
    "plt.ylabel('PDF')\n",
    "plt.legend()\n",
    "plt.show()\n"
   ]
  },
  {
   "cell_type": "markdown",
   "metadata": {},
   "source": [
    "Produce a set of descriptive statistics for the posterior distribution."
   ]
  },
  {
   "cell_type": "code",
   "execution_count": 10,
   "metadata": {},
   "outputs": [
    {
     "name": "stdout",
     "output_type": "stream",
     "text": [
      "Mean: 0.154\n",
      "Standard deviation: 0.035\n",
      "95% credible interval: [0.091, 0.229]\n"
     ]
    }
   ],
   "source": [
    "import scipy.stats as stats\n",
    "\n",
    "\n",
    "alpha = 2\n",
    "beta = 2\n",
    "n = 100\n",
    "k = 14\n",
    "posterior = stats.beta(alpha + k, beta + n - k)\n",
    "\n",
    "\n",
    "mean = posterior.mean()\n",
    "std = posterior.std()\n",
    "\n",
    "\n",
    "credible_interval = posterior.interval(0.95)\n",
    "\n",
    "\n",
    "print(\"Mean: {:.3f}\".format(mean))\n",
    "print(\"Standard deviation: {:.3f}\".format(std))\n",
    "print(\"95% credible interval: [{:.3f}, {:.3f}]\".format(*credible_interval))\n"
   ]
  },
  {
   "cell_type": "markdown",
   "metadata": {},
   "source": [
    "What is the 90% credible interval range?"
   ]
  },
  {
   "cell_type": "code",
   "execution_count": 11,
   "metadata": {},
   "outputs": [
    {
     "name": "stdout",
     "output_type": "stream",
     "text": [
      "90% credible interval: [0.100, 0.215]\n"
     ]
    }
   ],
   "source": [
    "import scipy.stats as stats\n",
    "\n",
    "alpha = 2\n",
    "beta = 2\n",
    "n = 100\n",
    "k = 14\n",
    "posterior = stats.beta(alpha + k, beta + n - k)\n",
    "\n",
    "\n",
    "credible_interval = posterior.interval(0.90)\n",
    "\n",
    "\n",
    "print(\"90% credible interval: [{:.3f}, {:.3f}]\".format(*credible_interval))\n"
   ]
  },
  {
   "cell_type": "markdown",
   "metadata": {},
   "source": [
    "What is the Maximum Likelihood Estimate?"
   ]
  },
  {
   "cell_type": "code",
   "execution_count": 13,
   "metadata": {},
   "outputs": [],
   "source": [
    "import scipy.stats as stats\n",
    "\n",
    "# Define the likelihood function\n",
    "def likelihood(p, n, k):\n",
    "    return stats.binom.pmf(k, n, p)\n"
   ]
  },
  {
   "cell_type": "code",
   "execution_count": null,
   "metadata": {},
   "outputs": [],
   "source": []
  }
 ],
 "metadata": {
  "kernelspec": {
   "display_name": "Python 3 (ipykernel)",
   "language": "python",
   "name": "python3"
  },
  "language_info": {
   "codemirror_mode": {
    "name": "ipython",
    "version": 3
   },
   "file_extension": ".py",
   "mimetype": "text/x-python",
   "name": "python",
   "nbconvert_exporter": "python",
   "pygments_lexer": "ipython3",
   "version": "3.9.13"
  }
 },
 "nbformat": 4,
 "nbformat_minor": 2
}
