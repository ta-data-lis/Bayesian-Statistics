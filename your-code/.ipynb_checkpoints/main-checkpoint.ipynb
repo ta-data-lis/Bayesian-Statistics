{
 "cells": [
  {
   "cell_type": "markdown",
   "metadata": {},
   "source": [
    "# Intro to Bayesian Statistics Lab\n",
    "\n",
    "Complete the following set of exercises to solidify your knowledge of Bayesian statistics and Bayesian data analysis."
   ]
  },
  {
   "cell_type": "code",
   "execution_count": 2,
   "metadata": {},
   "outputs": [],
   "source": [
    "import pandas as pd\n",
    "import numpy as np\n",
    "import matplotlib.pyplot as plt"
   ]
  },
  {
   "cell_type": "markdown",
   "metadata": {},
   "source": [
    "## 1. Cookie Problem\n",
    "\n",
    "Suppose we have two bowls of cookies. Bowl 1 contains 30 vanilla cookies and 10 chocolate cookies. Bowl 2 contains 20 of each. You randomly pick one cookie out of one of the bowls, and it is vanilla. Use Bayes Theorem to calculate the probability that the vanilla cookie you picked came from Bowl 1?"
   ]
  },
  {
   "cell_type": "code",
   "execution_count": 3,
   "metadata": {},
   "outputs": [
    {
     "name": "stdout",
     "output_type": "stream",
     "text": [
      "P(bowl1|vanilla) = 0.6\n"
     ]
    }
   ],
   "source": [
    "#bowl1: 30 vanilla \n",
    "#bowl1: 10 chocolate\n",
    "#bowl2: 20 vanilla\n",
    "#bowl2: 20 chocolate\n",
    "#pick a vanilla. was it coming out of bowl1?\n",
    "\n",
    "# P(A|B) = ( P(B|A) * P(A) ) / P(B)\n",
    "# P(bowl1|vanilla) = ( P(vanilla|bowl1) * P(bowl1) ) / P(vanilla)\n",
    "# P(bowl1|vanilla) = ( (30/40) * (40/80) ) / (50/80) = 0.6\n",
    "print(\"P(bowl1|vanilla) = 0.6\")"
   ]
  },
  {
   "cell_type": "markdown",
   "metadata": {},
   "source": [
    "What is the probability that it came from Bowl 2?"
   ]
  },
  {
   "cell_type": "code",
   "execution_count": 4,
   "metadata": {},
   "outputs": [
    {
     "name": "stdout",
     "output_type": "stream",
     "text": [
      "P(bowl2|vanilla) = 0.6\n"
     ]
    }
   ],
   "source": [
    "# P(bowl2|vanilla) = 1 - P(bowl1|vanilla) = 0.4\n",
    "print(\"P(bowl2|vanilla) = 0.4\")"
   ]
  },
  {
   "cell_type": "markdown",
   "metadata": {},
   "source": [
    "What if the cookie you had picked was chocolate? What are the probabilities that the chocolate cookie came from Bowl 1 and Bowl 2 respectively?"
   ]
  },
  {
   "cell_type": "code",
   "execution_count": 5,
   "metadata": {},
   "outputs": [
    {
     "name": "stdout",
     "output_type": "stream",
     "text": [
      "P(bowl1|choc) = 1/3\n",
      "P(bowl2|choc) = 2/3\n"
     ]
    }
   ],
   "source": [
    "# P(bowl1|choc) = ( P(choc|bowl1) * P(bowl1) ) / P(choc)\n",
    "# P(bowl1|choc) = ( (10/40) * (40/80) ) / (30/80) = 0.3333\n",
    "print(\"P(bowl1|choc) = 1/3\")\n",
    "\n",
    "# P(bowl2|choc) = 1 - P(bowl1|choc) = 0.66666\n",
    "print(\"P(bowl2|choc) = 2/3\")"
   ]
  },
  {
   "cell_type": "code",
   "execution_count": 22,
   "metadata": {},
   "outputs": [
    {
     "name": "stdout",
     "output_type": "stream",
     "text": [
      "Probability to get a chocolate cookie from the first bowl is 0.3333333333333333 and from the second bowl is 0.6666666666666666\n"
     ]
    }
   ],
   "source": [
    "#Doing the last question about chocolate cookies again in a different way:\n",
    "\n",
    "def bayes_rule(priors, likelihoods):\n",
    "    marg = sum(np.multiply(priors, likelihoods))\n",
    "    post = np.divide(np.multiply(priors, likelihoods), marg)\n",
    "    return post\n",
    "\n",
    "#where did I draw from, probability\n",
    "priors = [1/2, 1/2]\n",
    "#probability to hit a choc cookie:\n",
    "likelihoods = [0.25, 0.5]\n",
    "\n",
    "res = bayes_rule(priors, likelihoods)\n",
    "print(f\"Probability to get a chocolate cookie from the first bowl is {res[0]} and from the second bowl is {res[1]}.\")"
   ]
  },
  {
   "cell_type": "markdown",
   "metadata": {},
   "source": [
    "## 2. Candy Problem\n",
    "\n",
    "Suppose you have two bags of candies:\n",
    "\n",
    "- In Bag 1, the mix of colors is:\n",
    "    - Brown - 30%\n",
    "    - Yellow - 20%\n",
    "    - Red - 20%\n",
    "    - Green - 10%\n",
    "    - Orange - 10%\n",
    "    - Tan - 10%\n",
    "    \n",
    "- In Bag 2, the mix of colors is:\n",
    "    - Blue - 24%\n",
    "    - Green - 20%\n",
    "    - Orange - 16%\n",
    "    - Yellow - 14%\n",
    "    - Red - 13%\n",
    "    - Brown - 13%\n",
    "    \n",
    "Not knowing which bag is which, you randomly draw one candy from each bag. One is yellow and one is green. What is the probability that the yellow one came from the Bag 1?\n",
    "\n",
    "*Hint: For the likelihoods, you will need to multiply the probabilities of drawing yellow from one bag and green from the other bag and vice versa.*"
   ]
  },
  {
   "cell_type": "code",
   "execution_count": 6,
   "metadata": {},
   "outputs": [
    {
     "name": "stdout",
     "output_type": "stream",
     "text": [
      "P(Yellow of bag1 and Green of bag2) = 0.04\n"
     ]
    }
   ],
   "source": [
    "#draw yellow out of one and green out of the other\n",
    "#likelihood of yellow coming from bag 1?\n",
    "\n",
    "#independent, whatever I draw out of the first bag does not have an impact on the second draw.\n",
    "#P(AnB) = P(A)*P(B)\n",
    "\n",
    "#P(Yellow of bag1 and Green of bag2) = P(Yellow of bag1) * P(Green of bag2)\n",
    "#P(Yellow of bag1 and Green of bag2) = 0.2 * 0.2 = 0.04\n",
    "print(\"P(Yellow of bag1 and Green of bag2) = 0.04\")"
   ]
  },
  {
   "cell_type": "markdown",
   "metadata": {},
   "source": [
    "What is the probability that the yellow candy came from Bag 2?"
   ]
  },
  {
   "cell_type": "code",
   "execution_count": 7,
   "metadata": {},
   "outputs": [
    {
     "name": "stdout",
     "output_type": "stream",
     "text": [
      "P(Yellow of bag2 and Green of bag1) = 0.014\n"
     ]
    }
   ],
   "source": [
    "#P(AnB) = P(A)*P(B)\n",
    "\n",
    "#P(Yellow of bag2 and Green of bag1) = P(Green of bag1) * P(Yellow of bag2)\n",
    "#P(Yellow of bag2 and Green of bag1) = 0.1 * 0.14 = 0.014\n",
    "print(\"P(Yellow of bag2 and Green of bag1) = 0.014\")"
   ]
  },
  {
   "cell_type": "markdown",
   "metadata": {},
   "source": [
    "What are the probabilities that the green one came from Bag 1 and Bag 2 respectively?"
   ]
  },
  {
   "cell_type": "code",
   "execution_count": 8,
   "metadata": {},
   "outputs": [
    {
     "name": "stdout",
     "output_type": "stream",
     "text": [
      "P(Green of bag2 and Yellow of bag1) = 0.04\n",
      "P(Green of bag1 and Yellow of bag2) = 0.014\n"
     ]
    }
   ],
   "source": [
    "#the probabilities are the same as computed before\n",
    "\n",
    "#P(Green of bag2 and Yellow of bag1) = P(Yellow of bag1) * P(Green of bag2)\n",
    "#P(Green of bag2 and Yellow of bag1) = 0.2 * 0.2 = 0.04\n",
    "print(\"P(Green of bag2 and Yellow of bag1) = 0.04\")\n",
    "\n",
    "#P(Green of bag1 and Yellow of bag2) = P(Green of bag1) * P(Yellow of bag2)\n",
    "#P(Green of bag1 and Yellow of bag2) = 0.1 * 0.14 = 0.014\n",
    "print(\"P(Green of bag1 and Yellow of bag2) = 0.014\")"
   ]
  },
  {
   "cell_type": "markdown",
   "metadata": {},
   "source": [
    "## 3. Monty Hall Problem\n",
    "\n",
    "Suppose you are a contestant on the popular game show *Let's Make a Deal*. The host of the show (Monty Hall) presents you with three doors - Door A, Door B, and Door C. He tells you that there is a sports car behind one of them and if you choose the correct one, you win the car!\n",
    "\n",
    "You select Door A, but then Monty makes things a little more interesting. He opens Door B to reveal that there is no sports car behind it and asks you if you would like to stick with your choice of Door A or switch your choice to Door C. Given this new information, what are the probabilities of you winning the car if you stick with Door A versus if you switch to Door C?"
   ]
  },
  {
   "cell_type": "code",
   "execution_count": null,
   "metadata": {},
   "outputs": [],
   "source": [
    "#you should switch.\n",
    "P(A|B) = (P(B|A) * P(A)) / P(B)\n",
    "\n",
    "#scenario is, you guess doorA, he opens door B. Need only probabilities for doorA and doorC, in the second round:\n",
    "\n",
    "P(doorAwins|doorBfalse) = (P(doorBfalse|doorAwins) * P(doorAwins)) / P(doorBfalse)\n",
    "P(doorBfalse|doorAwins) = 1/2\n",
    "P(doorAwins) = 1/3\n",
    "P(doorBfalse) = 1/2\n",
    "P(doorAwins|doorBfalse) = (1/2 * 1/3) / 1/2 = 1/6*2/1 = 1/3\n",
    "\n",
    "P(doorCwins|doorBfalse) = (P(doorBfalse|doorCwins) * P(doorCwins)) / P(doorBfalse)\n",
    "P(doorBfalse|doorCwins) = 1\n",
    "P(doorCwins) = 1/3\n",
    "P(doorBfalse) = 1/2\n",
    "P(doorCwins|doorBfalse) = (1 * 1/3) / 1/2 = 1/3 * 2/1 = 2/3\n",
    "\n",
    "#not my idea, code along from https://towardsdatascience.com/solving-the-monty-hall-problem-with-bayes-theorem-893289953e16"
   ]
  },
  {
   "cell_type": "markdown",
   "metadata": {},
   "source": [
    "## 4. Bayesian Analysis \n",
    "\n",
    "Suppose you work for a landscaping company, and they want to advertise their service online. They create an ad and sit back waiting for the money to roll in. On the first day, the ad sends 100 visitors to the site and 14 of them sign up for landscaping services. Create a generative model to come up with the posterior distribution and produce a visualization of what the posterior distribution would look like given the observed data."
   ]
  },
  {
   "cell_type": "code",
   "execution_count": 13,
   "metadata": {},
   "outputs": [
    {
     "data": {
      "image/png": "[encoded data removed]",
      "text/plain": [
       "<Figure size 640x480 with 1 Axes>"
      ]
     },
     "metadata": {},
     "output_type": "display_data"
    }
   ],
   "source": [
    "import numpy as np\n",
    "import pandas as pd\n",
    "from scipy.stats import binom\n",
    "import scipy.stats as st\n",
    "\n",
    "n_draws = 100000\n",
    "prior = pd.Series(np.random.uniform(0, 1, size=n_draws))\n",
    "#prior.hist() #uniform prior distribution\n",
    "\n",
    "n = 100 #visitors\n",
    "observed = 14 #success rate\n",
    "\n",
    "def generative_model(param):\n",
    "    result = np.random.binomial(n, param)\n",
    "    return result\n",
    "\n",
    "sim_data = list()\n",
    "\n",
    "for p in prior:\n",
    "    sim_data.append(generative_model(p))\n",
    "    \n",
    "posterior = prior[list(map(lambda x: x == observed, sim_data))]\n",
    "posterior.hist();"
   ]
  },
  {
   "cell_type": "markdown",
   "metadata": {},
   "source": [
    "Produce a set of descriptive statistics for the posterior distribution."
   ]
  },
  {
   "cell_type": "code",
   "execution_count": 14,
   "metadata": {},
   "outputs": [
    {
     "data": {
      "text/plain": [
       "count    956.000000\n",
       "mean       0.145746\n",
       "std        0.035370\n",
       "min        0.054916\n",
       "25%        0.122044\n",
       "50%        0.142702\n",
       "75%        0.168766\n",
       "max        0.270907\n",
       "dtype: float64"
      ]
     },
     "execution_count": 14,
     "metadata": {},
     "output_type": "execute_result"
    }
   ],
   "source": [
    "posterior.describe()"
   ]
  },
  {
   "cell_type": "markdown",
   "metadata": {},
   "source": [
    "What is the 90% credible interval range?"
   ]
  },
  {
   "cell_type": "code",
   "execution_count": 16,
   "metadata": {},
   "outputs": [
    {
     "name": "stdout",
     "output_type": "stream",
     "text": [
      " 90% credible interval range is 0.0908280634592806 | 0.21020349903306204\n"
     ]
    }
   ],
   "source": [
    "print(\" 90% credible interval range is\", posterior.quantile(.05), '|', posterior.quantile(.95))"
   ]
  },
  {
   "cell_type": "markdown",
   "metadata": {},
   "source": [
    "What is the Maximum Likelihood Estimate?"
   ]
  },
  {
   "cell_type": "code",
   "execution_count": 19,
   "metadata": {},
   "outputs": [
    {
     "name": "stdout",
     "output_type": "stream",
     "text": [
      "Maximum Likelihood Estimate:  0.13 | 0.12343096234309624\n"
     ]
    }
   ],
   "source": [
    "# round the values in the posterior distribution to whole percents \n",
    "#and calculate the most likely one, along with its probability.\n",
    "\n",
    "rounded = posterior.round(2)\n",
    "mode = rounded.mode()[0]\n",
    "probability = list(rounded).count(mode)/len(rounded)\n",
    "print('Maximum Likelihood Estimate: ', mode, '|',probability)"
   ]
  }
 ],
 "metadata": {
  "kernelspec": {
   "display_name": "Python 3 (ipykernel)",
   "language": "python",
   "name": "python3"
  },
  "language_info": {
   "codemirror_mode": {
    "name": "ipython",
    "version": 3
   },
   "file_extension": ".py",
   "mimetype": "text/x-python",
   "name": "python",
   "nbconvert_exporter": "python",
   "pygments_lexer": "ipython3",
   "version": "3.9.13"
  }
 },
 "nbformat": 4,
 "nbformat_minor": 2
}
